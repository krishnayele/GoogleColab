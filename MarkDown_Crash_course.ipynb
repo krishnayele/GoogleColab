{
  "nbformat": 4,
  "nbformat_minor": 0,
  "metadata": {
    "colab": {
      "name": "MarkDown_Crash_course.ipynb",
      "version": "0.3.2",
      "provenance": [],
      "include_colab_link": true
    },
    "kernelspec": {
      "name": "python3",
      "display_name": "Python 3"
    }
  },
  "cells": [
    {
      "cell_type": "markdown",
      "metadata": {
        "id": "view-in-github",
        "colab_type": "text"
      },
      "source": [
        "<a href=\"https://colab.research.google.com/github/krishnayele/GoogleColab/blob/master/MarkDown_Crash_course.ipynb\" target=\"_parent\"><img src=\"https://colab.research.google.com/assets/colab-badge.svg\" alt=\"Open In Colab\"/></a>"
      ]
    },
    {
      "cell_type": "markdown",
      "metadata": {
        "id": "ApBMKvCol-gG",
        "colab_type": "text"
      },
      "source": [
        "<!-- Heading -->\n",
        "# Heading 1\n",
        "## Heading 2\n",
        "### Heading 3\n",
        "####  Heading 4\n",
        "#####  Heading 5\n",
        "###### Heading 6\n",
        "\n",
        "\n",
        "<!-- Italic-->\n",
        "*This Text* is Italic\n",
        "_this Text_ is italic\n",
        "\n",
        "\n",
        "<!--Strong-->\n",
        "**This text** is strong\n",
        "__This Text__ is strong\n",
        "\n",
        "<!--Strickthrough-->\n",
        "~~this text is strickThrough~~\n",
        "\n",
        "<!--Horizontal Rule-->\n",
        "---\n",
        "___\n",
        "\n",
        "<!--BlockQuote -->\n",
        ">this is a quote\n",
        "\n",
        "<!--Links-->\n",
        "[Here is the link](http://www.google.com \"Title\")\n",
        "\n",
        "<!--UL-->\n",
        "* Item 1\n",
        "* Item 2\n",
        "  * nested Item1\n",
        "  * nested Item2\n",
        "  \n",
        "  <!--OL-->\n",
        "  1. item 1\n",
        "  2. item 2\n",
        "  2. item 3\n",
        "  2. item 4\n",
        "  \n",
        "  \n",
        "  <!--inline code block-->\n",
        " `<p> This is  a paragraph</p>`\n",
        " \n",
        " \n",
        " <!-- images-->\n",
        " ![Markdown logo](http://markdown-here.com/img/icon256.png)\n",
        " \n",
        " \n",
        " \n",
        "\n",
        "\n"
      ]
    },
    {
      "cell_type": "code",
      "metadata": {
        "id": "EqlBjFO4ly8O",
        "colab_type": "code",
        "colab": {}
      },
      "source": [
        ""
      ],
      "execution_count": 0,
      "outputs": []
    },
    {
      "cell_type": "markdown",
      "metadata": {
        "id": "LXBBoNYasXMv",
        "colab_type": "text"
      },
      "source": [
        " # GIthub Markdown\n",
        " \n",
        " <!--Code blocks-->\n",
        " Using code blocks for specific lang GitHUb gives special color coding and syntax formating\n",
        " \n",
        " ___BASH___\n",
        " ```bash\n",
        "        npm install\n",
        "        npm start\n",
        " ```\n",
        " ___JAVASCRIPT___\n",
        " ```javascript\n",
        "      function add( num1 ,  num2 ){\n",
        "        return num1 + num2 ;\n",
        "      }\n",
        "```\n",
        "\n",
        "___PYTHON___\n",
        " ```python\n",
        "        def add(num1 , num 2):\n",
        "                return num1+num2\n",
        "```\n",
        "\n",
        "<!--Tables-->\n",
        "___TABLES___\n",
        "\n",
        "| Name    | Email                                    |\n",
        "| ------------ |------------------------------------------|\n",
        "| Krishna |  krishnayele@gmail.com |\n",
        "| Krishna yele |  kyele743@gmail.com |\n",
        "\n",
        "\n",
        "<!--Task List-->\n",
        "___Task LIST___\n",
        "\n",
        "* [x] Task 1\n",
        "* [x] Task 2\n",
        "* [ ]  Task 3"
      ]
    }
  ]
}