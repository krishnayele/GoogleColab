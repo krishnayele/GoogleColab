{
  "nbformat": 4,
  "nbformat_minor": 0,
  "metadata": {
    "colab": {
      "name": "Oracle+Data_science+House_pricing.ipynb",
      "version": "0.3.2",
      "provenance": [],
      "collapsed_sections": [],
      "include_colab_link": true
    },
    "kernelspec": {
      "name": "python3",
      "display_name": "Python 3"
    }
  },
  "cells": [
    {
      "cell_type": "markdown",
      "metadata": {
        "id": "view-in-github",
        "colab_type": "text"
      },
      "source": [
        "<a href=\"https://colab.research.google.com/github/krishnayele/GoogleColab/blob/master/Oracle%2BData_science%2BHouse_pricing.ipynb\" target=\"_parent\"><img src=\"https://colab.research.google.com/assets/colab-badge.svg\" alt=\"Open In Colab\"/></a>"
      ]
    },
    {
      "cell_type": "markdown",
      "metadata": {
        "id": "JmQIqfJvUbT3",
        "colab_type": "text"
      },
      "source": [
        "### It is an implementation of the steps given [here](https://www.datascience.com/blog/supervised-learning-python) "
      ]
    },
    {
      "cell_type": "code",
      "metadata": {
        "id": "L1PR04T7SO3Q",
        "colab_type": "code",
        "colab": {}
      },
      "source": [
        "#include sklearn\n",
        "from sklearn.datasets import load_boston\n",
        "boston = load_boston()"
      ],
      "execution_count": 0,
      "outputs": []
    },
    {
      "cell_type": "markdown",
      "metadata": {
        "id": "NPnzEkn-WTW4",
        "colab_type": "text"
      },
      "source": [
        "### Before we start to explore the data, let's turn it into a pandas data frame, which is a table-like data structure with labeled rows and columns. We'll label the columns using the 'feature_names' property of the dataset."
      ]
    },
    {
      "cell_type": "code",
      "metadata": {
        "id": "ADAHJNrcVugw",
        "colab_type": "code",
        "colab": {}
      },
      "source": [
        "#import pandas\n",
        "import pandas as pd\n",
        "boston_data = pd.DataFrame(boston.data, columns = boston.feature_names)\n"
      ],
      "execution_count": 0,
      "outputs": []
    },
    {
      "cell_type": "markdown",
      "metadata": {
        "id": "B07azQ89WcmY",
        "colab_type": "text"
      },
      "source": [
        "### To know the size of the function we use shape()"
      ]
    },
    {
      "cell_type": "code",
      "metadata": {
        "id": "gHdA4GCbWWAr",
        "colab_type": "code",
        "colab": {
          "base_uri": "https://localhost:8080/",
          "height": 36
        },
        "outputId": "df3c9869-f63d-4934-b048-8bc41b8175e6"
      },
      "source": [
        "boston_data.shape"
      ],
      "execution_count": 3,
      "outputs": [
        {
          "output_type": "execute_result",
          "data": {
            "text/plain": [
              "(506, 13)"
            ]
          },
          "metadata": {
            "tags": []
          },
          "execution_count": 3
        }
      ]
    },
    {
      "cell_type": "markdown",
      "metadata": {
        "id": "I85VWoTsXVh3",
        "colab_type": "text"
      },
      "source": [
        "### shape function returns tuple with (rows, columns), rows will be taken here as suburbs in boston area and columns will be understood as features \n",
        "### therefor The boston has 506 suburbs and 13 features\n",
        "Lets have a look at data with the help of  **head** function"
      ]
    },
    {
      "cell_type": "code",
      "metadata": {
        "id": "qXhWcuceWkl5",
        "colab_type": "code",
        "colab": {
          "base_uri": "https://localhost:8080/",
          "height": 1244
        },
        "outputId": "e611000f-f416-4bf8-9ef2-6c38e4ad1a4d"
      },
      "source": [
        "boston_data.head"
      ],
      "execution_count": 4,
      "outputs": [
        {
          "output_type": "execute_result",
          "data": {
            "text/plain": [
              "<bound method NDFrame.head of          CRIM    ZN  INDUS  CHAS    NOX  ...   RAD    TAX  PTRATIO       B  LSTAT\n",
              "0     0.00632  18.0   2.31   0.0  0.538  ...   1.0  296.0     15.3  396.90   4.98\n",
              "1     0.02731   0.0   7.07   0.0  0.469  ...   2.0  242.0     17.8  396.90   9.14\n",
              "2     0.02729   0.0   7.07   0.0  0.469  ...   2.0  242.0     17.8  392.83   4.03\n",
              "3     0.03237   0.0   2.18   0.0  0.458  ...   3.0  222.0     18.7  394.63   2.94\n",
              "4     0.06905   0.0   2.18   0.0  0.458  ...   3.0  222.0     18.7  396.90   5.33\n",
              "5     0.02985   0.0   2.18   0.0  0.458  ...   3.0  222.0     18.7  394.12   5.21\n",
              "6     0.08829  12.5   7.87   0.0  0.524  ...   5.0  311.0     15.2  395.60  12.43\n",
              "7     0.14455  12.5   7.87   0.0  0.524  ...   5.0  311.0     15.2  396.90  19.15\n",
              "8     0.21124  12.5   7.87   0.0  0.524  ...   5.0  311.0     15.2  386.63  29.93\n",
              "9     0.17004  12.5   7.87   0.0  0.524  ...   5.0  311.0     15.2  386.71  17.10\n",
              "10    0.22489  12.5   7.87   0.0  0.524  ...   5.0  311.0     15.2  392.52  20.45\n",
              "11    0.11747  12.5   7.87   0.0  0.524  ...   5.0  311.0     15.2  396.90  13.27\n",
              "12    0.09378  12.5   7.87   0.0  0.524  ...   5.0  311.0     15.2  390.50  15.71\n",
              "13    0.62976   0.0   8.14   0.0  0.538  ...   4.0  307.0     21.0  396.90   8.26\n",
              "14    0.63796   0.0   8.14   0.0  0.538  ...   4.0  307.0     21.0  380.02  10.26\n",
              "15    0.62739   0.0   8.14   0.0  0.538  ...   4.0  307.0     21.0  395.62   8.47\n",
              "16    1.05393   0.0   8.14   0.0  0.538  ...   4.0  307.0     21.0  386.85   6.58\n",
              "17    0.78420   0.0   8.14   0.0  0.538  ...   4.0  307.0     21.0  386.75  14.67\n",
              "18    0.80271   0.0   8.14   0.0  0.538  ...   4.0  307.0     21.0  288.99  11.69\n",
              "19    0.72580   0.0   8.14   0.0  0.538  ...   4.0  307.0     21.0  390.95  11.28\n",
              "20    1.25179   0.0   8.14   0.0  0.538  ...   4.0  307.0     21.0  376.57  21.02\n",
              "21    0.85204   0.0   8.14   0.0  0.538  ...   4.0  307.0     21.0  392.53  13.83\n",
              "22    1.23247   0.0   8.14   0.0  0.538  ...   4.0  307.0     21.0  396.90  18.72\n",
              "23    0.98843   0.0   8.14   0.0  0.538  ...   4.0  307.0     21.0  394.54  19.88\n",
              "24    0.75026   0.0   8.14   0.0  0.538  ...   4.0  307.0     21.0  394.33  16.30\n",
              "25    0.84054   0.0   8.14   0.0  0.538  ...   4.0  307.0     21.0  303.42  16.51\n",
              "26    0.67191   0.0   8.14   0.0  0.538  ...   4.0  307.0     21.0  376.88  14.81\n",
              "27    0.95577   0.0   8.14   0.0  0.538  ...   4.0  307.0     21.0  306.38  17.28\n",
              "28    0.77299   0.0   8.14   0.0  0.538  ...   4.0  307.0     21.0  387.94  12.80\n",
              "29    1.00245   0.0   8.14   0.0  0.538  ...   4.0  307.0     21.0  380.23  11.98\n",
              "..        ...   ...    ...   ...    ...  ...   ...    ...      ...     ...    ...\n",
              "476   4.87141   0.0  18.10   0.0  0.614  ...  24.0  666.0     20.2  396.21  18.68\n",
              "477  15.02340   0.0  18.10   0.0  0.614  ...  24.0  666.0     20.2  349.48  24.91\n",
              "478  10.23300   0.0  18.10   0.0  0.614  ...  24.0  666.0     20.2  379.70  18.03\n",
              "479  14.33370   0.0  18.10   0.0  0.614  ...  24.0  666.0     20.2  383.32  13.11\n",
              "480   5.82401   0.0  18.10   0.0  0.532  ...  24.0  666.0     20.2  396.90  10.74\n",
              "481   5.70818   0.0  18.10   0.0  0.532  ...  24.0  666.0     20.2  393.07   7.74\n",
              "482   5.73116   0.0  18.10   0.0  0.532  ...  24.0  666.0     20.2  395.28   7.01\n",
              "483   2.81838   0.0  18.10   0.0  0.532  ...  24.0  666.0     20.2  392.92  10.42\n",
              "484   2.37857   0.0  18.10   0.0  0.583  ...  24.0  666.0     20.2  370.73  13.34\n",
              "485   3.67367   0.0  18.10   0.0  0.583  ...  24.0  666.0     20.2  388.62  10.58\n",
              "486   5.69175   0.0  18.10   0.0  0.583  ...  24.0  666.0     20.2  392.68  14.98\n",
              "487   4.83567   0.0  18.10   0.0  0.583  ...  24.0  666.0     20.2  388.22  11.45\n",
              "488   0.15086   0.0  27.74   0.0  0.609  ...   4.0  711.0     20.1  395.09  18.06\n",
              "489   0.18337   0.0  27.74   0.0  0.609  ...   4.0  711.0     20.1  344.05  23.97\n",
              "490   0.20746   0.0  27.74   0.0  0.609  ...   4.0  711.0     20.1  318.43  29.68\n",
              "491   0.10574   0.0  27.74   0.0  0.609  ...   4.0  711.0     20.1  390.11  18.07\n",
              "492   0.11132   0.0  27.74   0.0  0.609  ...   4.0  711.0     20.1  396.90  13.35\n",
              "493   0.17331   0.0   9.69   0.0  0.585  ...   6.0  391.0     19.2  396.90  12.01\n",
              "494   0.27957   0.0   9.69   0.0  0.585  ...   6.0  391.0     19.2  396.90  13.59\n",
              "495   0.17899   0.0   9.69   0.0  0.585  ...   6.0  391.0     19.2  393.29  17.60\n",
              "496   0.28960   0.0   9.69   0.0  0.585  ...   6.0  391.0     19.2  396.90  21.14\n",
              "497   0.26838   0.0   9.69   0.0  0.585  ...   6.0  391.0     19.2  396.90  14.10\n",
              "498   0.23912   0.0   9.69   0.0  0.585  ...   6.0  391.0     19.2  396.90  12.92\n",
              "499   0.17783   0.0   9.69   0.0  0.585  ...   6.0  391.0     19.2  395.77  15.10\n",
              "500   0.22438   0.0   9.69   0.0  0.585  ...   6.0  391.0     19.2  396.90  14.33\n",
              "501   0.06263   0.0  11.93   0.0  0.573  ...   1.0  273.0     21.0  391.99   9.67\n",
              "502   0.04527   0.0  11.93   0.0  0.573  ...   1.0  273.0     21.0  396.90   9.08\n",
              "503   0.06076   0.0  11.93   0.0  0.573  ...   1.0  273.0     21.0  396.90   5.64\n",
              "504   0.10959   0.0  11.93   0.0  0.573  ...   1.0  273.0     21.0  393.45   6.48\n",
              "505   0.04741   0.0  11.93   0.0  0.573  ...   1.0  273.0     21.0  396.90   7.88\n",
              "\n",
              "[506 rows x 13 columns]>"
            ]
          },
          "metadata": {
            "tags": []
          },
          "execution_count": 4
        }
      ]
    },
    {
      "cell_type": "markdown",
      "metadata": {
        "id": "Z-RwQhbHYqiG",
        "colab_type": "text"
      },
      "source": [
        "### To view small portion of data we will enter the number of counts\n",
        "**head(4)**"
      ]
    },
    {
      "cell_type": "code",
      "metadata": {
        "id": "Jmj0zRynYmz3",
        "colab_type": "code",
        "colab": {
          "base_uri": "https://localhost:8080/",
          "height": 195
        },
        "outputId": "aa847c1b-8130-4889-a2c5-a4d047f86750"
      },
      "source": [
        "boston_data.head(4)"
      ],
      "execution_count": 5,
      "outputs": [
        {
          "output_type": "execute_result",
          "data": {
            "text/html": [
              "<div>\n",
              "<style scoped>\n",
              "    .dataframe tbody tr th:only-of-type {\n",
              "        vertical-align: middle;\n",
              "    }\n",
              "\n",
              "    .dataframe tbody tr th {\n",
              "        vertical-align: top;\n",
              "    }\n",
              "\n",
              "    .dataframe thead th {\n",
              "        text-align: right;\n",
              "    }\n",
              "</style>\n",
              "<table border=\"1\" class=\"dataframe\">\n",
              "  <thead>\n",
              "    <tr style=\"text-align: right;\">\n",
              "      <th></th>\n",
              "      <th>CRIM</th>\n",
              "      <th>ZN</th>\n",
              "      <th>INDUS</th>\n",
              "      <th>CHAS</th>\n",
              "      <th>NOX</th>\n",
              "      <th>RM</th>\n",
              "      <th>AGE</th>\n",
              "      <th>DIS</th>\n",
              "      <th>RAD</th>\n",
              "      <th>TAX</th>\n",
              "      <th>PTRATIO</th>\n",
              "      <th>B</th>\n",
              "      <th>LSTAT</th>\n",
              "    </tr>\n",
              "  </thead>\n",
              "  <tbody>\n",
              "    <tr>\n",
              "      <th>0</th>\n",
              "      <td>0.00632</td>\n",
              "      <td>18.0</td>\n",
              "      <td>2.31</td>\n",
              "      <td>0.0</td>\n",
              "      <td>0.538</td>\n",
              "      <td>6.575</td>\n",
              "      <td>65.2</td>\n",
              "      <td>4.0900</td>\n",
              "      <td>1.0</td>\n",
              "      <td>296.0</td>\n",
              "      <td>15.3</td>\n",
              "      <td>396.90</td>\n",
              "      <td>4.98</td>\n",
              "    </tr>\n",
              "    <tr>\n",
              "      <th>1</th>\n",
              "      <td>0.02731</td>\n",
              "      <td>0.0</td>\n",
              "      <td>7.07</td>\n",
              "      <td>0.0</td>\n",
              "      <td>0.469</td>\n",
              "      <td>6.421</td>\n",
              "      <td>78.9</td>\n",
              "      <td>4.9671</td>\n",
              "      <td>2.0</td>\n",
              "      <td>242.0</td>\n",
              "      <td>17.8</td>\n",
              "      <td>396.90</td>\n",
              "      <td>9.14</td>\n",
              "    </tr>\n",
              "    <tr>\n",
              "      <th>2</th>\n",
              "      <td>0.02729</td>\n",
              "      <td>0.0</td>\n",
              "      <td>7.07</td>\n",
              "      <td>0.0</td>\n",
              "      <td>0.469</td>\n",
              "      <td>7.185</td>\n",
              "      <td>61.1</td>\n",
              "      <td>4.9671</td>\n",
              "      <td>2.0</td>\n",
              "      <td>242.0</td>\n",
              "      <td>17.8</td>\n",
              "      <td>392.83</td>\n",
              "      <td>4.03</td>\n",
              "    </tr>\n",
              "    <tr>\n",
              "      <th>3</th>\n",
              "      <td>0.03237</td>\n",
              "      <td>0.0</td>\n",
              "      <td>2.18</td>\n",
              "      <td>0.0</td>\n",
              "      <td>0.458</td>\n",
              "      <td>6.998</td>\n",
              "      <td>45.8</td>\n",
              "      <td>6.0622</td>\n",
              "      <td>3.0</td>\n",
              "      <td>222.0</td>\n",
              "      <td>18.7</td>\n",
              "      <td>394.63</td>\n",
              "      <td>2.94</td>\n",
              "    </tr>\n",
              "  </tbody>\n",
              "</table>\n",
              "</div>"
            ],
            "text/plain": [
              "      CRIM    ZN  INDUS  CHAS    NOX  ...  RAD    TAX  PTRATIO       B  LSTAT\n",
              "0  0.00632  18.0   2.31   0.0  0.538  ...  1.0  296.0     15.3  396.90   4.98\n",
              "1  0.02731   0.0   7.07   0.0  0.469  ...  2.0  242.0     17.8  396.90   9.14\n",
              "2  0.02729   0.0   7.07   0.0  0.469  ...  2.0  242.0     17.8  392.83   4.03\n",
              "3  0.03237   0.0   2.18   0.0  0.458  ...  3.0  222.0     18.7  394.63   2.94\n",
              "\n",
              "[4 rows x 13 columns]"
            ]
          },
          "metadata": {
            "tags": []
          },
          "execution_count": 5
        }
      ]
    },
    {
      "cell_type": "markdown",
      "metadata": {
        "id": "tt6FbJFECq-B",
        "colab_type": "text"
      },
      "source": [
        "#### We can add a column using the following syntax"
      ]
    },
    {
      "cell_type": "code",
      "metadata": {
        "id": "aU6b6Y6pY-Wz",
        "colab_type": "code",
        "colab": {}
      },
      "source": [
        "#the price in data set is in thousand dollars so it is converted in dollars \n",
        "boston_data[\"PRICE\"] = boston.target*1000"
      ],
      "execution_count": 0,
      "outputs": []
    },
    {
      "cell_type": "markdown",
      "metadata": {
        "id": "OPvh0BJtF0z8",
        "colab_type": "text"
      },
      "source": [
        "### We can view basic statistic operations on data using *describe()* function"
      ]
    },
    {
      "cell_type": "code",
      "metadata": {
        "id": "Q5otUWlQDXzc",
        "colab_type": "code",
        "colab": {
          "base_uri": "https://localhost:8080/",
          "height": 509
        },
        "outputId": "070bcdf9-59bb-4fee-bab4-e31bd3f6d956"
      },
      "source": [
        "boston_data.describe().transpose()"
      ],
      "execution_count": 7,
      "outputs": [
        {
          "output_type": "execute_result",
          "data": {
            "text/html": [
              "<div>\n",
              "<style scoped>\n",
              "    .dataframe tbody tr th:only-of-type {\n",
              "        vertical-align: middle;\n",
              "    }\n",
              "\n",
              "    .dataframe tbody tr th {\n",
              "        vertical-align: top;\n",
              "    }\n",
              "\n",
              "    .dataframe thead th {\n",
              "        text-align: right;\n",
              "    }\n",
              "</style>\n",
              "<table border=\"1\" class=\"dataframe\">\n",
              "  <thead>\n",
              "    <tr style=\"text-align: right;\">\n",
              "      <th></th>\n",
              "      <th>count</th>\n",
              "      <th>mean</th>\n",
              "      <th>std</th>\n",
              "      <th>min</th>\n",
              "      <th>25%</th>\n",
              "      <th>50%</th>\n",
              "      <th>75%</th>\n",
              "      <th>max</th>\n",
              "    </tr>\n",
              "  </thead>\n",
              "  <tbody>\n",
              "    <tr>\n",
              "      <th>CRIM</th>\n",
              "      <td>506.0</td>\n",
              "      <td>3.613524</td>\n",
              "      <td>8.601545</td>\n",
              "      <td>0.00632</td>\n",
              "      <td>0.082045</td>\n",
              "      <td>0.25651</td>\n",
              "      <td>3.677083</td>\n",
              "      <td>88.9762</td>\n",
              "    </tr>\n",
              "    <tr>\n",
              "      <th>ZN</th>\n",
              "      <td>506.0</td>\n",
              "      <td>11.363636</td>\n",
              "      <td>23.322453</td>\n",
              "      <td>0.00000</td>\n",
              "      <td>0.000000</td>\n",
              "      <td>0.00000</td>\n",
              "      <td>12.500000</td>\n",
              "      <td>100.0000</td>\n",
              "    </tr>\n",
              "    <tr>\n",
              "      <th>INDUS</th>\n",
              "      <td>506.0</td>\n",
              "      <td>11.136779</td>\n",
              "      <td>6.860353</td>\n",
              "      <td>0.46000</td>\n",
              "      <td>5.190000</td>\n",
              "      <td>9.69000</td>\n",
              "      <td>18.100000</td>\n",
              "      <td>27.7400</td>\n",
              "    </tr>\n",
              "    <tr>\n",
              "      <th>CHAS</th>\n",
              "      <td>506.0</td>\n",
              "      <td>0.069170</td>\n",
              "      <td>0.253994</td>\n",
              "      <td>0.00000</td>\n",
              "      <td>0.000000</td>\n",
              "      <td>0.00000</td>\n",
              "      <td>0.000000</td>\n",
              "      <td>1.0000</td>\n",
              "    </tr>\n",
              "    <tr>\n",
              "      <th>NOX</th>\n",
              "      <td>506.0</td>\n",
              "      <td>0.554695</td>\n",
              "      <td>0.115878</td>\n",
              "      <td>0.38500</td>\n",
              "      <td>0.449000</td>\n",
              "      <td>0.53800</td>\n",
              "      <td>0.624000</td>\n",
              "      <td>0.8710</td>\n",
              "    </tr>\n",
              "    <tr>\n",
              "      <th>RM</th>\n",
              "      <td>506.0</td>\n",
              "      <td>6.284634</td>\n",
              "      <td>0.702617</td>\n",
              "      <td>3.56100</td>\n",
              "      <td>5.885500</td>\n",
              "      <td>6.20850</td>\n",
              "      <td>6.623500</td>\n",
              "      <td>8.7800</td>\n",
              "    </tr>\n",
              "    <tr>\n",
              "      <th>AGE</th>\n",
              "      <td>506.0</td>\n",
              "      <td>68.574901</td>\n",
              "      <td>28.148861</td>\n",
              "      <td>2.90000</td>\n",
              "      <td>45.025000</td>\n",
              "      <td>77.50000</td>\n",
              "      <td>94.075000</td>\n",
              "      <td>100.0000</td>\n",
              "    </tr>\n",
              "    <tr>\n",
              "      <th>DIS</th>\n",
              "      <td>506.0</td>\n",
              "      <td>3.795043</td>\n",
              "      <td>2.105710</td>\n",
              "      <td>1.12960</td>\n",
              "      <td>2.100175</td>\n",
              "      <td>3.20745</td>\n",
              "      <td>5.188425</td>\n",
              "      <td>12.1265</td>\n",
              "    </tr>\n",
              "    <tr>\n",
              "      <th>RAD</th>\n",
              "      <td>506.0</td>\n",
              "      <td>9.549407</td>\n",
              "      <td>8.707259</td>\n",
              "      <td>1.00000</td>\n",
              "      <td>4.000000</td>\n",
              "      <td>5.00000</td>\n",
              "      <td>24.000000</td>\n",
              "      <td>24.0000</td>\n",
              "    </tr>\n",
              "    <tr>\n",
              "      <th>TAX</th>\n",
              "      <td>506.0</td>\n",
              "      <td>408.237154</td>\n",
              "      <td>168.537116</td>\n",
              "      <td>187.00000</td>\n",
              "      <td>279.000000</td>\n",
              "      <td>330.00000</td>\n",
              "      <td>666.000000</td>\n",
              "      <td>711.0000</td>\n",
              "    </tr>\n",
              "    <tr>\n",
              "      <th>PTRATIO</th>\n",
              "      <td>506.0</td>\n",
              "      <td>18.455534</td>\n",
              "      <td>2.164946</td>\n",
              "      <td>12.60000</td>\n",
              "      <td>17.400000</td>\n",
              "      <td>19.05000</td>\n",
              "      <td>20.200000</td>\n",
              "      <td>22.0000</td>\n",
              "    </tr>\n",
              "    <tr>\n",
              "      <th>B</th>\n",
              "      <td>506.0</td>\n",
              "      <td>356.674032</td>\n",
              "      <td>91.294864</td>\n",
              "      <td>0.32000</td>\n",
              "      <td>375.377500</td>\n",
              "      <td>391.44000</td>\n",
              "      <td>396.225000</td>\n",
              "      <td>396.9000</td>\n",
              "    </tr>\n",
              "    <tr>\n",
              "      <th>LSTAT</th>\n",
              "      <td>506.0</td>\n",
              "      <td>12.653063</td>\n",
              "      <td>7.141062</td>\n",
              "      <td>1.73000</td>\n",
              "      <td>6.950000</td>\n",
              "      <td>11.36000</td>\n",
              "      <td>16.955000</td>\n",
              "      <td>37.9700</td>\n",
              "    </tr>\n",
              "    <tr>\n",
              "      <th>PRICE</th>\n",
              "      <td>506.0</td>\n",
              "      <td>22532.806324</td>\n",
              "      <td>9197.104087</td>\n",
              "      <td>5000.00000</td>\n",
              "      <td>17025.000000</td>\n",
              "      <td>21200.00000</td>\n",
              "      <td>25000.000000</td>\n",
              "      <td>50000.0000</td>\n",
              "    </tr>\n",
              "  </tbody>\n",
              "</table>\n",
              "</div>"
            ],
            "text/plain": [
              "         count          mean  ...           75%         max\n",
              "CRIM     506.0      3.613524  ...      3.677083     88.9762\n",
              "ZN       506.0     11.363636  ...     12.500000    100.0000\n",
              "INDUS    506.0     11.136779  ...     18.100000     27.7400\n",
              "CHAS     506.0      0.069170  ...      0.000000      1.0000\n",
              "NOX      506.0      0.554695  ...      0.624000      0.8710\n",
              "RM       506.0      6.284634  ...      6.623500      8.7800\n",
              "AGE      506.0     68.574901  ...     94.075000    100.0000\n",
              "DIS      506.0      3.795043  ...      5.188425     12.1265\n",
              "RAD      506.0      9.549407  ...     24.000000     24.0000\n",
              "TAX      506.0    408.237154  ...    666.000000    711.0000\n",
              "PTRATIO  506.0     18.455534  ...     20.200000     22.0000\n",
              "B        506.0    356.674032  ...    396.225000    396.9000\n",
              "LSTAT    506.0     12.653063  ...     16.955000     37.9700\n",
              "PRICE    506.0  22532.806324  ...  25000.000000  50000.0000\n",
              "\n",
              "[14 rows x 8 columns]"
            ]
          },
          "metadata": {
            "tags": []
          },
          "execution_count": 7
        }
      ]
    },
    {
      "cell_type": "markdown",
      "metadata": {
        "id": "y-piwQ8nHm1X",
        "colab_type": "text"
      },
      "source": [
        "## Training Data v Test Data\n",
        "### The data will be saperated in two parts one will be used for testing the data and another will be used to train the data. The saperation should be random."
      ]
    },
    {
      "cell_type": "code",
      "metadata": {
        "id": "x2vlEqffGN49",
        "colab_type": "code",
        "colab": {
          "base_uri": "https://localhost:8080/",
          "height": 55
        },
        "outputId": "a7de0713-5cc0-445c-a7db-b3016ed47ce6"
      },
      "source": [
        "X = boston_data.iloc[:,:-1]\n",
        "Y = boston_data[\"PRICE\"]\n",
        "\n",
        "#IMPORT train_test_split FROM sklearn.model_selection\n",
        "from sklearn.model_selection import train_test_split\n",
        "\n",
        "#split the data into 80% training and 20% testing\n",
        "X_train, X_test, Y_train, Y_test = train_test_split(X, Y, test_size= 0.2, random_state = 337)\n",
        "\n",
        "print(\"Training data size((%i, %i) \"%X_train.shape)\n",
        "print(\"Testing data size  (%i, %i)\"%X_test.shape)"
      ],
      "execution_count": 8,
      "outputs": [
        {
          "output_type": "stream",
          "text": [
            "Training data size((404, 13) \n",
            "Testing data size  (102, 13)\n"
          ],
          "name": "stdout"
        }
      ]
    },
    {
      "cell_type": "markdown",
      "metadata": {
        "id": "MxaYtusPNty_",
        "colab_type": "text"
      },
      "source": [
        "## Scaling the features\n",
        "### The main motive behind scaling is make mean 0 and standard deviation. Even without scaling the dataset the final result will be same. However, the interpretation will be easier."
      ]
    },
    {
      "cell_type": "code",
      "metadata": {
        "id": "eKIEca0XKYga",
        "colab_type": "code",
        "colab": {}
      },
      "source": [
        "#import StandardScalar from sklearn.prepocessing\n",
        "from sklearn.preprocessing import StandardScaler"
      ],
      "execution_count": 0,
      "outputs": []
    },
    {
      "cell_type": "code",
      "metadata": {
        "id": "fu-2HlFsOzrY",
        "colab_type": "code",
        "colab": {}
      },
      "source": [
        "scaler = StandardScaler()\n",
        "X_train = scaler.fit_transform(X_train)\n",
        "X_test = scaler.transform(X_test)"
      ],
      "execution_count": 0,
      "outputs": []
    },
    {
      "cell_type": "code",
      "metadata": {
        "id": "5gYmwiYpR0V8",
        "colab_type": "code",
        "colab": {
          "base_uri": "https://localhost:8080/",
          "height": 149
        },
        "outputId": "96a0c6b9-a490-4a96-df89-7534168c5c35"
      },
      "source": [
        "# lets print the mean and standard deviation\n",
        "print('Training set mean by feature:')\n",
        "print(X_train.mean(axis=0))\n",
        "print('Training set standard deviation by feature:')\n",
        "print(X_train.std(axis=0))"
      ],
      "execution_count": 11,
      "outputs": [
        {
          "output_type": "stream",
          "text": [
            "Training set mean by feature:\n",
            "[-3.07784601e-17 -3.13280754e-17  1.63785377e-16 -1.97861529e-17\n",
            " -1.92365376e-16  1.38722917e-15  3.40761522e-16  1.16518456e-16\n",
            " -9.01369188e-17  8.79384574e-18  1.33666455e-15 -5.10043053e-16\n",
            "  3.84730751e-17]\n",
            "Training set standard deviation by feature:\n",
            "[1. 1. 1. 1. 1. 1. 1. 1. 1. 1. 1. 1. 1.]\n"
          ],
          "name": "stdout"
        }
      ]
    },
    {
      "cell_type": "markdown",
      "metadata": {
        "id": "j2P497erYIvD",
        "colab_type": "text"
      },
      "source": [
        "***NOTE*** : Do not forget to add `axis=0`"
      ]
    },
    {
      "cell_type": "markdown",
      "metadata": {
        "id": "_5D07BGXmXF8",
        "colab_type": "text"
      },
      "source": [
        "## Training Our Model\n",
        "Its time to build our linear regression model using the training data. This is quite simple, and just involves creating a LinearRegression model object and one call to its 'fit' method."
      ]
    },
    {
      "cell_type": "code",
      "metadata": {
        "id": "cS5B8jvpSKdt",
        "colab_type": "code",
        "colab": {
          "base_uri": "https://localhost:8080/",
          "height": 56
        },
        "outputId": "5a8f9c56-627a-4d4b-c086-75bc59e2f31b"
      },
      "source": [
        "from sklearn.linear_model import LinearRegression\n",
        "regression_model = LinearRegression()\n",
        "regression_model.fit(X_train, Y_train)\n"
      ],
      "execution_count": 12,
      "outputs": [
        {
          "output_type": "execute_result",
          "data": {
            "text/plain": [
              "LinearRegression(copy_X=True, fit_intercept=True, n_jobs=None, normalize=False)"
            ]
          },
          "metadata": {
            "tags": []
          },
          "execution_count": 12
        }
      ]
    },
    {
      "cell_type": "code",
      "metadata": {
        "id": "1PbNZ_23nDs2",
        "colab_type": "code",
        "colab": {
          "base_uri": "https://localhost:8080/",
          "height": 319
        },
        "outputId": "abd342f9-7369-4ba1-a200-a48e2c93a42a"
      },
      "source": [
        "intercept = regression_model.intercept_\n",
        "coef = pd.DataFrame(regression_model.coef_, index=boston.feature_names,columns=['Coefficients'])\n",
        "print('Intercept=%f\\n'%intercept)\n",
        "print(coef)"
      ],
      "execution_count": 13,
      "outputs": [
        {
          "output_type": "stream",
          "text": [
            "Intercept=22467.079208\n",
            "\n",
            "         Coefficients\n",
            "CRIM      -567.973253\n",
            "ZN         713.169441\n",
            "INDUS       29.115757\n",
            "CHAS       930.311691\n",
            "NOX      -1560.068123\n",
            "RM        3485.097236\n",
            "AGE       -532.318954\n",
            "DIS      -2730.668830\n",
            "RAD       2066.840215\n",
            "TAX      -1890.981867\n",
            "PTRATIO  -1966.935749\n",
            "B          956.319838\n",
            "LSTAT    -2957.386673\n"
          ],
          "name": "stdout"
        }
      ]
    },
    {
      "cell_type": "markdown",
      "metadata": {
        "id": "Pp4Rjv-LoRAA",
        "colab_type": "text"
      },
      "source": [
        "## Some points to be learned HERE\n",
        "\n",
        "\n",
        "\n",
        "*   b0, intercept term, which is equal to the mean home price among all suburbs in the training data set when all of the other coefficients are set equal to their mean values(which are all zero  in this case)\n",
        "*   all the positive coefficient values signifies that the median home price increases as the corresponding feature increases. On the other hand a negative coefficient value signifies that the meadian home price decreases as the corresponding feature increases.\n",
        "\n",
        "Let's checkout the meanings\n",
        "\n",
        "\n",
        "1.  CRIM : increase in crime rate will decrease the median home price\n",
        "2.   RM : An increase in the avg number of rooms per home corresponds to an increase in median home price\n",
        "3.  AGE: An increase in the proportion of houses built before 1940 corresponds to a decrease in median home price\n",
        "4. RAD: an increase in accessibility to radial highways corresponds to a increase in median home price\n",
        "\n",
        "and so on\n",
        "\n",
        "\n",
        "\n"
      ]
    },
    {
      "cell_type": "markdown",
      "metadata": {
        "id": "7uH8a881Pqus",
        "colab_type": "text"
      },
      "source": [
        "## Testing the model on new data\n"
      ]
    },
    {
      "cell_type": "code",
      "metadata": {
        "id": "ua2j1t9En0wG",
        "colab_type": "code",
        "colab": {
          "base_uri": "https://localhost:8080/",
          "height": 36
        },
        "outputId": "5a76935e-c4ce-4808-8c39-7efc4e541315"
      },
      "source": [
        "from sklearn.metrics import mean_squared_error\n",
        "import numpy as np\n",
        "\n",
        "Y_pred = regression_model.predict(X_test)\n",
        "test_rmse = np.sqrt(mean_squared_error(Y_test, Y_pred))\n",
        "print('Test RMSE: %f' %test_rmse)\n"
      ],
      "execution_count": 16,
      "outputs": [
        {
          "output_type": "stream",
          "text": [
            "Test RMSE: 6296.954533\n"
          ],
          "name": "stdout"
        }
      ]
    },
    {
      "cell_type": "code",
      "metadata": {
        "id": "ipBrEu6SQw8n",
        "colab_type": "code",
        "colab": {
          "base_uri": "https://localhost:8080/",
          "height": 283
        },
        "outputId": "273a6c24-b3c2-4c82-fe86-27326a89039a"
      },
      "source": [
        "#plot the graph\n",
        "import matplotlib.pyplot as plt\n",
        "plt.scatter(Y_test,Y_pred)\n",
        "plt.plot([0,5000],[0,5000],'r',lw=2)\n",
        "plt.xlabel('Actual Price(Dollars)')\n",
        "plt.ylabel('Predicted Price(Dollars)')\n",
        "plt.show()"
      ],
      "execution_count": 22,
      "outputs": [
        {
          "output_type": "display_data",
          "data": {
            "image/png": "[encoded data removed]",
            "text/plain": [
              "<Figure size 432x288 with 1 Axes>"
            ]
          },
          "metadata": {
            "tags": []
          }
        }
      ]
    },
    {
      "cell_type": "code",
      "metadata": {
        "id": "39P-fDOZZVtr",
        "colab_type": "code",
        "colab": {}
      },
      "source": [
        ""
      ],
      "execution_count": 0,
      "outputs": []
    }
  ]
}